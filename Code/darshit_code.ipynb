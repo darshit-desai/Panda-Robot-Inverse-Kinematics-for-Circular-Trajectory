{
 "cells": [
  {
   "cell_type": "code",
   "execution_count": 1,
   "metadata": {},
   "outputs": [],
   "source": [
    "from sympy import *\n",
    "from math import pi\n",
    "from sympy.matrices import Matrix\n",
    "from sympy.physics.vector import *\n",
    "#Defining robot parameter symbols\n",
    "a3 = Symbol(\"a_3\")\n",
    "d1 = Symbol(\"d_1\")\n",
    "d3 = Symbol(\"d_3\")\n",
    "d5 = Symbol(\"d_5\")\n",
    "d7 = Symbol(\"d_7\")\n",
    "#Defining joint angle symbols\n",
    "theta1 = Symbol(\"theta_1\")\n",
    "theta2 = Symbol(\"theta_2\")\n",
    "theta3 = Symbol(\"theta_3\")\n",
    "theta4 = Symbol(\"theta_4\")\n",
    "theta5 = Symbol(\"theta_5\")\n",
    "theta6 = Symbol(\"theta_6\")\n",
    "theta7 = Symbol(\"theta_7\")"
   ]
  },
  {
   "cell_type": "code",
   "execution_count": 2,
   "metadata": {},
   "outputs": [],
   "source": [
    "A1 = Matrix([[cos(theta1), 0, sin(theta1), 0],[sin(theta1), 0, -cos(theta1), 0],[0, 1, 0, d1],[0, 0, 0, 1]])\n",
    "\n",
    "A2 = Matrix([[cos(theta2), 0, -sin(theta2), 0],[sin(theta2), 0, cos(theta2), 0],[0, -1, 0, 0],[0, 0, 0, 1]])\n",
    "\n",
    "A3 = Matrix([[cos(theta3), 0, -sin(theta3), a3*cos(theta3)],[sin(theta3), 0, cos(theta3), a3*sin(theta3)],[0, -1, 0, d3],[0, 0, 0, 1]])\n",
    "\n",
    "A4 = Matrix([[cos(theta4), 0, sin(theta4), -a3*cos(theta4)],[sin(theta4), 0, -cos(theta4), -a3*sin(theta4)],[0, 1, 0, 0],[0, 0, 0, 1]])\n",
    "\n",
    "A5 = Matrix([[cos(theta5), 0, sin(theta5), 0],[sin(theta5), 0, -cos(theta5), 0],[0, 1, 0, d5],[0, 0, 0, 1]])\n",
    "\n",
    "A6 = Matrix([[cos(theta6), 0, -sin(theta6), a3*cos(theta6)],[sin(theta6), 0, cos(theta6), a3*sin(theta6)],[0, -1, 0, 0],[0, 0, 0, 1]])\n",
    "\n",
    "A7 = Matrix([[cos(theta7), -sin(theta7), 0, 0],[sin(theta7), cos(theta7), 0, 0],[0, 0, 1, -d7-100],[0, 0, 0, 1]])"
   ]
  },
  {
   "cell_type": "code",
   "execution_count": 3,
   "metadata": {},
   "outputs": [],
   "source": [
    "#Substituting theta3=0 since joint 3 is locked\n",
    "A3=A3.subs(theta3, 0)\n",
    "\n",
    "#Calculating end effector orientation wrt base frame below Generalized Form\n",
    "A10 = A1\n",
    "A20 = A1 * A2\n",
    "A30 = A1 * A2 * A3\n",
    "A40 = A1 * A2 * A3 * A4\n",
    "A50 = A1 * A2 * A3 * A4 * A5\n",
    "A60 = A1 * A2 * A3 * A4 * A5 * A6\n",
    "A70 = A1 * A2 * A3 * A4 * A5 * A6 * A7"
   ]
  },
  {
   "cell_type": "code",
   "execution_count": 4,
   "metadata": {},
   "outputs": [],
   "source": [
    "import time\n",
    "from matplotlib import pyplot as plt\n",
    "from mpl_toolkits.mplot3d import axes3d, Axes3D\n",
    "start = time.time() #start time\n"
   ]
  },
  {
   "cell_type": "code",
   "execution_count": 5,
   "metadata": {},
   "outputs": [
    {
     "name": "stdout",
     "output_type": "stream",
     "text": [
      "⎡a₃⋅((sin(θ₂)⋅sin(θ₄)⋅cos(θ₁) + cos(θ₁)⋅cos(θ₂)⋅cos(θ₄))⋅cos(θ₅) - sin(θ₁)⋅sin\n",
      "⎢                                                                             \n",
      "⎢a₃⋅((sin(θ₁)⋅sin(θ₂)⋅sin(θ₄) + sin(θ₁)⋅cos(θ₂)⋅cos(θ₄))⋅cos(θ₅) + sin(θ₅)⋅cos\n",
      "⎢                                                                             \n",
      "⎣                                                                           a₃\n",
      "\n",
      "(θ₅))⋅cos(θ₆) + a₃⋅(-sin(θ₂)⋅cos(θ₁)⋅cos(θ₄) + sin(θ₄)⋅cos(θ₁)⋅cos(θ₂))⋅sin(θ₆\n",
      "                                                                              \n",
      "(θ₁))⋅cos(θ₆) + a₃⋅(-sin(θ₁)⋅sin(θ₂)⋅cos(θ₄) + sin(θ₁)⋅sin(θ₄)⋅cos(θ₂))⋅sin(θ₆\n",
      "                                                                              \n",
      "⋅(sin(θ₂)⋅sin(θ₄) + cos(θ₂)⋅cos(θ₄))⋅sin(θ₆) + a₃⋅(sin(θ₂)⋅cos(θ₄) - sin(θ₄)⋅c\n",
      "\n",
      ") - a₃⋅sin(θ₂)⋅sin(θ₄)⋅cos(θ₁) - a₃⋅cos(θ₁)⋅cos(θ₂)⋅cos(θ₄) + a₃⋅cos(θ₁)⋅cos(θ\n",
      "                                                                              \n",
      ") - a₃⋅sin(θ₁)⋅sin(θ₂)⋅sin(θ₄) - a₃⋅sin(θ₁)⋅cos(θ₂)⋅cos(θ₄) + a₃⋅sin(θ₁)⋅cos(θ\n",
      "                                                                              \n",
      "os(θ₂))⋅cos(θ₅)⋅cos(θ₆) - a₃⋅sin(θ₂)⋅cos(θ₄) + a₃⋅sin(θ₂) + a₃⋅sin(θ₄)⋅cos(θ₂)\n",
      "\n",
      "₂) - d₃⋅sin(θ₂)⋅cos(θ₁) + d₅⋅(-sin(θ₂)⋅cos(θ₁)⋅cos(θ₄) + sin(θ₄)⋅cos(θ₁)⋅cos(θ\n",
      "                                                                              \n",
      "₂) - d₃⋅sin(θ₁)⋅sin(θ₂) + d₅⋅(-sin(θ₁)⋅sin(θ₂)⋅cos(θ₄) + sin(θ₁)⋅sin(θ₄)⋅cos(θ\n",
      "                                                                              \n",
      " + d₁ + d₃⋅cos(θ₂) + d₅⋅(sin(θ₂)⋅sin(θ₄) + cos(θ₂)⋅cos(θ₄)) + (-d₇ - 100)⋅((si\n",
      "\n",
      "₂)) + (-d₇ - 100)⋅(-((sin(θ₂)⋅sin(θ₄)⋅cos(θ₁) + cos(θ₁)⋅cos(θ₂)⋅cos(θ₄))⋅cos(θ\n",
      "                                                                              \n",
      "₂)) + (-d₇ - 100)⋅(-((sin(θ₁)⋅sin(θ₂)⋅sin(θ₄) + sin(θ₁)⋅cos(θ₂)⋅cos(θ₄))⋅cos(θ\n",
      "                                                                              \n",
      "n(θ₂)⋅sin(θ₄) + cos(θ₂)⋅cos(θ₄))⋅cos(θ₆) - (sin(θ₂)⋅cos(θ₄) - sin(θ₄)⋅cos(θ₂))\n",
      "\n",
      "₅) - sin(θ₁)⋅sin(θ₅))⋅sin(θ₆) + (-sin(θ₂)⋅cos(θ₁)⋅cos(θ₄) + sin(θ₄)⋅cos(θ₁)⋅co\n",
      "                                                                              \n",
      "₅) + sin(θ₅)⋅cos(θ₁))⋅sin(θ₆) + (-sin(θ₁)⋅sin(θ₂)⋅cos(θ₄) + sin(θ₁)⋅sin(θ₄)⋅co\n",
      "                                                                              \n",
      "⋅sin(θ₆)⋅cos(θ₅))                                                             \n",
      "\n",
      "s(θ₂))⋅cos(θ₆))⎤\n",
      "               ⎥\n",
      "s(θ₂))⋅cos(θ₆))⎥\n",
      "               ⎥\n",
      "               ⎦\n"
     ]
    }
   ],
   "source": [
    "Xp0 = A70.col(3)\n",
    "Xp0.row_del(3)\n",
    "pprint(Xp0)"
   ]
  },
  {
   "cell_type": "code",
   "execution_count": 6,
   "metadata": {},
   "outputs": [],
   "source": [
    "#Calculating Partial Differentials for the jacobian\n",
    "dele1 = diff(Xp0, theta1)\n",
    "dele2 = diff(Xp0, theta2)\n",
    "dele4 = diff(Xp0, theta4)\n",
    "dele5 = diff(Xp0, theta5)\n",
    "dele6 = diff(Xp0, theta6)\n",
    "dele7 = diff(Xp0, theta7)"
   ]
  },
  {
   "cell_type": "code",
   "execution_count": 7,
   "metadata": {},
   "outputs": [
    {
     "name": "stdout",
     "output_type": "stream",
     "text": [
      "⎡a₃⋅((-sin(θ₁)⋅sin(θ₂)⋅sin(θ₄) - sin(θ₁)⋅cos(θ₂)⋅cos(θ₄))⋅cos(θ₅) - sin(θ₅)⋅co\n",
      "⎢                                                                             \n",
      "⎢a₃⋅((sin(θ₂)⋅sin(θ₄)⋅cos(θ₁) + cos(θ₁)⋅cos(θ₂)⋅cos(θ₄))⋅cos(θ₅) - sin(θ₁)⋅sin\n",
      "⎢                                                                             \n",
      "⎣                                                                             \n",
      "\n",
      "s(θ₁))⋅cos(θ₆) + a₃⋅(sin(θ₁)⋅sin(θ₂)⋅cos(θ₄) - sin(θ₁)⋅sin(θ₄)⋅cos(θ₂))⋅sin(θ₆\n",
      "                                                                              \n",
      "(θ₅))⋅cos(θ₆) + a₃⋅(-sin(θ₂)⋅cos(θ₁)⋅cos(θ₄) + sin(θ₄)⋅cos(θ₁)⋅cos(θ₂))⋅sin(θ₆\n",
      "                                                                              \n",
      "                                                                              \n",
      "\n",
      ") + a₃⋅sin(θ₁)⋅sin(θ₂)⋅sin(θ₄) + a₃⋅sin(θ₁)⋅cos(θ₂)⋅cos(θ₄) - a₃⋅sin(θ₁)⋅cos(θ\n",
      "                                                                              \n",
      ") - a₃⋅sin(θ₂)⋅sin(θ₄)⋅cos(θ₁) - a₃⋅cos(θ₁)⋅cos(θ₂)⋅cos(θ₄) + a₃⋅cos(θ₁)⋅cos(θ\n",
      "                                                                              \n",
      "                                                                              \n",
      "\n",
      "₂) + d₃⋅sin(θ₁)⋅sin(θ₂) + d₅⋅(sin(θ₁)⋅sin(θ₂)⋅cos(θ₄) - sin(θ₁)⋅sin(θ₄)⋅cos(θ₂\n",
      "                                                                              \n",
      "₂) - d₃⋅sin(θ₂)⋅cos(θ₁) + d₅⋅(-sin(θ₂)⋅cos(θ₁)⋅cos(θ₄) + sin(θ₄)⋅cos(θ₁)⋅cos(θ\n",
      "                                                                              \n",
      "       0                                                                      \n",
      "\n",
      ")) + (-d₇ - 100)⋅(-((-sin(θ₁)⋅sin(θ₂)⋅sin(θ₄) - sin(θ₁)⋅cos(θ₂)⋅cos(θ₄))⋅cos(θ\n",
      "                                                                              \n",
      "₂)) + (-d₇ - 100)⋅(-((sin(θ₂)⋅sin(θ₄)⋅cos(θ₁) + cos(θ₁)⋅cos(θ₂)⋅cos(θ₄))⋅cos(θ\n",
      "                                                                              \n",
      "                                                                              \n",
      "\n",
      "₅) - sin(θ₅)⋅cos(θ₁))⋅sin(θ₆) + (sin(θ₁)⋅sin(θ₂)⋅cos(θ₄) - sin(θ₁)⋅sin(θ₄)⋅cos\n",
      "                                                                              \n",
      "₅) - sin(θ₁)⋅sin(θ₅))⋅sin(θ₆) + (-sin(θ₂)⋅cos(θ₁)⋅cos(θ₄) + sin(θ₄)⋅cos(θ₁)⋅co\n",
      "                                                                              \n",
      "                                                                              \n",
      "\n",
      "(θ₂))⋅cos(θ₆)) ⎤\n",
      "               ⎥\n",
      "s(θ₂))⋅cos(θ₆))⎥\n",
      "               ⎥\n",
      "               ⎦\n"
     ]
    }
   ],
   "source": [
    "#Printing the column vector for joint 1\n",
    "pprint(dele1)"
   ]
  },
  {
   "cell_type": "code",
   "execution_count": 8,
   "metadata": {},
   "outputs": [
    {
     "name": "stdout",
     "output_type": "stream",
     "text": [
      "⎡a₃⋅(-sin(θ₂)⋅sin(θ₄)⋅cos(θ₁) - cos(θ₁)⋅cos(θ₂)⋅cos(θ₄))⋅sin(θ₆) + a₃⋅(-sin(θ₂\n",
      "⎢                                                                             \n",
      "⎢a₃⋅(-sin(θ₁)⋅sin(θ₂)⋅sin(θ₄) - sin(θ₁)⋅cos(θ₂)⋅cos(θ₄))⋅sin(θ₆) + a₃⋅(-sin(θ₁\n",
      "⎢                                                                             \n",
      "⎣                                                        a₃⋅(sin(θ₂)⋅sin(θ₄) +\n",
      "\n",
      ")⋅cos(θ₁)⋅cos(θ₄) + sin(θ₄)⋅cos(θ₁)⋅cos(θ₂))⋅cos(θ₅)⋅cos(θ₆) + a₃⋅sin(θ₂)⋅cos(\n",
      "                                                                              \n",
      ")⋅sin(θ₂)⋅cos(θ₄) + sin(θ₁)⋅sin(θ₄)⋅cos(θ₂))⋅cos(θ₅)⋅cos(θ₆) + a₃⋅sin(θ₁)⋅sin(\n",
      "                                                                              \n",
      " cos(θ₂)⋅cos(θ₄))⋅cos(θ₅)⋅cos(θ₆) + a₃⋅(-sin(θ₂)⋅cos(θ₄) + sin(θ₄)⋅cos(θ₂))⋅si\n",
      "\n",
      "θ₁)⋅cos(θ₄) - a₃⋅sin(θ₂)⋅cos(θ₁) - a₃⋅sin(θ₄)⋅cos(θ₁)⋅cos(θ₂) - d₃⋅cos(θ₁)⋅cos\n",
      "                                                                              \n",
      "θ₂)⋅cos(θ₄) - a₃⋅sin(θ₁)⋅sin(θ₂) - a₃⋅sin(θ₁)⋅sin(θ₄)⋅cos(θ₂) - d₃⋅sin(θ₁)⋅cos\n",
      "                                                                              \n",
      "n(θ₆) - a₃⋅sin(θ₂)⋅sin(θ₄) - a₃⋅cos(θ₂)⋅cos(θ₄) + a₃⋅cos(θ₂) - d₃⋅sin(θ₂) + d₅\n",
      "\n",
      "(θ₂) + d₅⋅(-sin(θ₂)⋅sin(θ₄)⋅cos(θ₁) - cos(θ₁)⋅cos(θ₂)⋅cos(θ₄)) + (-d₇ - 100)⋅(\n",
      "                                                                              \n",
      "(θ₂) + d₅⋅(-sin(θ₁)⋅sin(θ₂)⋅sin(θ₄) - sin(θ₁)⋅cos(θ₂)⋅cos(θ₄)) + (-d₇ - 100)⋅(\n",
      "                                                                              \n",
      "⋅(-sin(θ₂)⋅cos(θ₄) + sin(θ₄)⋅cos(θ₂)) + (-d₇ - 100)⋅(-(sin(θ₂)⋅sin(θ₄) + cos(θ\n",
      "\n",
      "(-sin(θ₂)⋅sin(θ₄)⋅cos(θ₁) - cos(θ₁)⋅cos(θ₂)⋅cos(θ₄))⋅cos(θ₆) - (-sin(θ₂)⋅cos(θ\n",
      "                                                                              \n",
      "(-sin(θ₁)⋅sin(θ₂)⋅sin(θ₄) - sin(θ₁)⋅cos(θ₂)⋅cos(θ₄))⋅cos(θ₆) - (-sin(θ₁)⋅sin(θ\n",
      "                                                                              \n",
      "₂)⋅cos(θ₄))⋅sin(θ₆)⋅cos(θ₅) + (-sin(θ₂)⋅cos(θ₄) + sin(θ₄)⋅cos(θ₂))⋅cos(θ₆))   \n",
      "\n",
      "₁)⋅cos(θ₄) + sin(θ₄)⋅cos(θ₁)⋅cos(θ₂))⋅sin(θ₆)⋅cos(θ₅))⎤\n",
      "                                                      ⎥\n",
      "₂)⋅cos(θ₄) + sin(θ₁)⋅sin(θ₄)⋅cos(θ₂))⋅sin(θ₆)⋅cos(θ₅))⎥\n",
      "                                                      ⎥\n",
      "                                                      ⎦\n"
     ]
    }
   ],
   "source": [
    "#Printing the column vector for joint 2\n",
    "pprint(dele2)"
   ]
  },
  {
   "cell_type": "code",
   "execution_count": 9,
   "metadata": {},
   "outputs": [
    {
     "name": "stdout",
     "output_type": "stream",
     "text": [
      "⎡a₃⋅(sin(θ₂)⋅sin(θ₄)⋅cos(θ₁) + cos(θ₁)⋅cos(θ₂)⋅cos(θ₄))⋅sin(θ₆) + a₃⋅(sin(θ₂)⋅\n",
      "⎢                                                                             \n",
      "⎢a₃⋅(sin(θ₁)⋅sin(θ₂)⋅sin(θ₄) + sin(θ₁)⋅cos(θ₂)⋅cos(θ₄))⋅sin(θ₆) + a₃⋅(sin(θ₁)⋅\n",
      "⎢                                                                             \n",
      "⎣                                              a₃⋅(-sin(θ₂)⋅sin(θ₄) - cos(θ₂)⋅\n",
      "\n",
      "cos(θ₁)⋅cos(θ₄) - sin(θ₄)⋅cos(θ₁)⋅cos(θ₂))⋅cos(θ₅)⋅cos(θ₆) - a₃⋅sin(θ₂)⋅cos(θ₁\n",
      "                                                                              \n",
      "sin(θ₂)⋅cos(θ₄) - sin(θ₁)⋅sin(θ₄)⋅cos(θ₂))⋅cos(θ₅)⋅cos(θ₆) - a₃⋅sin(θ₁)⋅sin(θ₂\n",
      "                                                                              \n",
      "cos(θ₄))⋅cos(θ₅)⋅cos(θ₆) + a₃⋅(sin(θ₂)⋅cos(θ₄) - sin(θ₄)⋅cos(θ₂))⋅sin(θ₆) + a₃\n",
      "\n",
      ")⋅cos(θ₄) + a₃⋅sin(θ₄)⋅cos(θ₁)⋅cos(θ₂) + d₅⋅(sin(θ₂)⋅sin(θ₄)⋅cos(θ₁) + cos(θ₁)\n",
      "                                                                              \n",
      ")⋅cos(θ₄) + a₃⋅sin(θ₁)⋅sin(θ₄)⋅cos(θ₂) + d₅⋅(sin(θ₁)⋅sin(θ₂)⋅sin(θ₄) + sin(θ₁)\n",
      "                                                                              \n",
      "⋅sin(θ₂)⋅sin(θ₄) + a₃⋅cos(θ₂)⋅cos(θ₄) + d₅⋅(sin(θ₂)⋅cos(θ₄) - sin(θ₄)⋅cos(θ₂))\n",
      "\n",
      "⋅cos(θ₂)⋅cos(θ₄)) + (-d₇ - 100)⋅((sin(θ₂)⋅sin(θ₄)⋅cos(θ₁) + cos(θ₁)⋅cos(θ₂)⋅co\n",
      "                                                                              \n",
      "⋅cos(θ₂)⋅cos(θ₄)) + (-d₇ - 100)⋅((sin(θ₁)⋅sin(θ₂)⋅sin(θ₄) + sin(θ₁)⋅cos(θ₂)⋅co\n",
      "                                                                              \n",
      " + (-d₇ - 100)⋅(-(-sin(θ₂)⋅sin(θ₄) - cos(θ₂)⋅cos(θ₄))⋅sin(θ₆)⋅cos(θ₅) + (sin(θ\n",
      "\n",
      "s(θ₄))⋅cos(θ₆) - (sin(θ₂)⋅cos(θ₁)⋅cos(θ₄) - sin(θ₄)⋅cos(θ₁)⋅cos(θ₂))⋅sin(θ₆)⋅c\n",
      "                                                                              \n",
      "s(θ₄))⋅cos(θ₆) - (sin(θ₁)⋅sin(θ₂)⋅cos(θ₄) - sin(θ₁)⋅sin(θ₄)⋅cos(θ₂))⋅sin(θ₆)⋅c\n",
      "                                                                              \n",
      "₂)⋅cos(θ₄) - sin(θ₄)⋅cos(θ₂))⋅cos(θ₆))                                        \n",
      "\n",
      "os(θ₅))⎤\n",
      "       ⎥\n",
      "os(θ₅))⎥\n",
      "       ⎥\n",
      "       ⎦\n"
     ]
    }
   ],
   "source": [
    "#Printing the column vector for joint 4, Joint 3 locked and hence not considered\n",
    "pprint(dele4)"
   ]
  },
  {
   "cell_type": "code",
   "execution_count": 10,
   "metadata": {},
   "outputs": [
    {
     "name": "stdout",
     "output_type": "stream",
     "text": [
      "⎡a₃⋅(-(sin(θ₂)⋅sin(θ₄)⋅cos(θ₁) + cos(θ₁)⋅cos(θ₂)⋅cos(θ₄))⋅sin(θ₅) - sin(θ₁)⋅co\n",
      "⎢                                                                             \n",
      "⎢a₃⋅(-(sin(θ₁)⋅sin(θ₂)⋅sin(θ₄) + sin(θ₁)⋅cos(θ₂)⋅cos(θ₄))⋅sin(θ₅) + cos(θ₁)⋅co\n",
      "⎢                                                                             \n",
      "⎣                                    -a₃⋅(sin(θ₂)⋅cos(θ₄) - sin(θ₄)⋅cos(θ₂))⋅s\n",
      "\n",
      "s(θ₅))⋅cos(θ₆) - (-d₇ - 100)⋅(-(sin(θ₂)⋅sin(θ₄)⋅cos(θ₁) + cos(θ₁)⋅cos(θ₂)⋅cos(\n",
      "                                                                              \n",
      "s(θ₅))⋅cos(θ₆) - (-d₇ - 100)⋅(-(sin(θ₁)⋅sin(θ₂)⋅sin(θ₄) + sin(θ₁)⋅cos(θ₂)⋅cos(\n",
      "                                                                              \n",
      "in(θ₅)⋅cos(θ₆) + (-d₇ - 100)⋅(sin(θ₂)⋅cos(θ₄) - sin(θ₄)⋅cos(θ₂))⋅sin(θ₅)⋅sin(θ\n",
      "\n",
      "θ₄))⋅sin(θ₅) - sin(θ₁)⋅cos(θ₅))⋅sin(θ₆)⎤\n",
      "                                       ⎥\n",
      "θ₄))⋅sin(θ₅) + cos(θ₁)⋅cos(θ₅))⋅sin(θ₆)⎥\n",
      "                                       ⎥\n",
      "₆)                                     ⎦\n"
     ]
    }
   ],
   "source": [
    "#Printing the column vector for joint 5\n",
    "pprint(dele5)"
   ]
  },
  {
   "cell_type": "code",
   "execution_count": 11,
   "metadata": {},
   "outputs": [
    {
     "name": "stdout",
     "output_type": "stream",
     "text": [
      "⎡-a₃⋅((sin(θ₂)⋅sin(θ₄)⋅cos(θ₁) + cos(θ₁)⋅cos(θ₂)⋅cos(θ₄))⋅cos(θ₅) - sin(θ₁)⋅si\n",
      "⎢                                                                             \n",
      "⎢-a₃⋅((sin(θ₁)⋅sin(θ₂)⋅sin(θ₄) + sin(θ₁)⋅cos(θ₂)⋅cos(θ₄))⋅cos(θ₅) + sin(θ₅)⋅co\n",
      "⎢                                                                             \n",
      "⎣                                                     a₃⋅(sin(θ₂)⋅sin(θ₄) + co\n",
      "\n",
      "n(θ₅))⋅sin(θ₆) + a₃⋅(-sin(θ₂)⋅cos(θ₁)⋅cos(θ₄) + sin(θ₄)⋅cos(θ₁)⋅cos(θ₂))⋅cos(θ\n",
      "                                                                              \n",
      "s(θ₁))⋅sin(θ₆) + a₃⋅(-sin(θ₁)⋅sin(θ₂)⋅cos(θ₄) + sin(θ₁)⋅sin(θ₄)⋅cos(θ₂))⋅cos(θ\n",
      "                                                                              \n",
      "s(θ₂)⋅cos(θ₄))⋅cos(θ₆) - a₃⋅(sin(θ₂)⋅cos(θ₄) - sin(θ₄)⋅cos(θ₂))⋅sin(θ₆)⋅cos(θ₅\n",
      "\n",
      "₆) + (-d₇ - 100)⋅(-((sin(θ₂)⋅sin(θ₄)⋅cos(θ₁) + cos(θ₁)⋅cos(θ₂)⋅cos(θ₄))⋅cos(θ₅\n",
      "                                                                              \n",
      "₆) + (-d₇ - 100)⋅(-((sin(θ₁)⋅sin(θ₂)⋅sin(θ₄) + sin(θ₁)⋅cos(θ₂)⋅cos(θ₄))⋅cos(θ₅\n",
      "                                                                              \n",
      ") + (-d₇ - 100)⋅(-(sin(θ₂)⋅sin(θ₄) + cos(θ₂)⋅cos(θ₄))⋅sin(θ₆) - (sin(θ₂)⋅cos(θ\n",
      "\n",
      ") - sin(θ₁)⋅sin(θ₅))⋅cos(θ₆) - (-sin(θ₂)⋅cos(θ₁)⋅cos(θ₄) + sin(θ₄)⋅cos(θ₁)⋅cos\n",
      "                                                                              \n",
      ") + sin(θ₅)⋅cos(θ₁))⋅cos(θ₆) - (-sin(θ₁)⋅sin(θ₂)⋅cos(θ₄) + sin(θ₁)⋅sin(θ₄)⋅cos\n",
      "                                                                              \n",
      "₄) - sin(θ₄)⋅cos(θ₂))⋅cos(θ₅)⋅cos(θ₆))                                        \n",
      "\n",
      "(θ₂))⋅sin(θ₆))⎤\n",
      "              ⎥\n",
      "(θ₂))⋅sin(θ₆))⎥\n",
      "              ⎥\n",
      "              ⎦\n"
     ]
    }
   ],
   "source": [
    "#Printing the column vector for joint 6\n",
    "pprint(dele6)"
   ]
  },
  {
   "cell_type": "code",
   "execution_count": 12,
   "metadata": {},
   "outputs": [
    {
     "name": "stdout",
     "output_type": "stream",
     "text": [
      "⎡0⎤\n",
      "⎢ ⎥\n",
      "⎢0⎥\n",
      "⎢ ⎥\n",
      "⎣0⎦\n"
     ]
    }
   ],
   "source": [
    "#Printing the column vector for joint 7\n",
    "pprint(dele7)"
   ]
  },
  {
   "cell_type": "code",
   "execution_count": 13,
   "metadata": {},
   "outputs": [],
   "source": [
    "#Calculating Z column vectors for Jacobian\n",
    "Z1 = A10.col(2)\n",
    "Z1.row_del(3)\n",
    "Z2 = A20.col(2)\n",
    "Z2.row_del(3)\n",
    "Z4 = A40.col(2)\n",
    "Z4.row_del(3)\n",
    "Z5 = A50.col(2)\n",
    "Z5.row_del(3)\n",
    "Z6 = A60.col(2)\n",
    "Z6.row_del(3)\n",
    "Z7 = A70.col(2)\n",
    "Z7.row_del(3)"
   ]
  },
  {
   "cell_type": "code",
   "execution_count": 14,
   "metadata": {},
   "outputs": [
    {
     "name": "stdout",
     "output_type": "stream",
     "text": [
      "⎡sin(θ₁) ⎤\n",
      "⎢        ⎥\n",
      "⎢-cos(θ₁)⎥\n",
      "⎢        ⎥\n",
      "⎣   0    ⎦\n"
     ]
    }
   ],
   "source": [
    "#Note theta3 is locked and hence not considered in the Jacobian\n",
    "#Printing the 0_Z_1 element of Jacobian\n",
    "pprint(Z1)"
   ]
  },
  {
   "cell_type": "code",
   "execution_count": 15,
   "metadata": {},
   "outputs": [
    {
     "name": "stdout",
     "output_type": "stream",
     "text": [
      "⎡-sin(θ₂)⋅cos(θ₁)⎤\n",
      "⎢                ⎥\n",
      "⎢-sin(θ₁)⋅sin(θ₂)⎥\n",
      "⎢                ⎥\n",
      "⎣    cos(θ₂)     ⎦\n"
     ]
    }
   ],
   "source": [
    "#Printing the 0_Z_2 element of Jacobian\n",
    "pprint(Z2)"
   ]
  },
  {
   "cell_type": "code",
   "execution_count": 16,
   "metadata": {},
   "outputs": [
    {
     "name": "stdout",
     "output_type": "stream",
     "text": [
      "⎡-sin(θ₂)⋅cos(θ₁)⋅cos(θ₄) + sin(θ₄)⋅cos(θ₁)⋅cos(θ₂)⎤\n",
      "⎢                                                  ⎥\n",
      "⎢-sin(θ₁)⋅sin(θ₂)⋅cos(θ₄) + sin(θ₁)⋅sin(θ₄)⋅cos(θ₂)⎥\n",
      "⎢                                                  ⎥\n",
      "⎣        sin(θ₂)⋅sin(θ₄) + cos(θ₂)⋅cos(θ₄)         ⎦\n"
     ]
    }
   ],
   "source": [
    "#Printing the 0_Z_4 element of Jacobian\n",
    "pprint(Z4)"
   ]
  },
  {
   "cell_type": "code",
   "execution_count": 17,
   "metadata": {},
   "outputs": [
    {
     "name": "stdout",
     "output_type": "stream",
     "text": [
      "⎡(sin(θ₂)⋅sin(θ₄)⋅cos(θ₁) + cos(θ₁)⋅cos(θ₂)⋅cos(θ₄))⋅sin(θ₅) + sin(θ₁)⋅cos(θ₅)\n",
      "⎢                                                                             \n",
      "⎢(sin(θ₁)⋅sin(θ₂)⋅sin(θ₄) + sin(θ₁)⋅cos(θ₂)⋅cos(θ₄))⋅sin(θ₅) - cos(θ₁)⋅cos(θ₅)\n",
      "⎢                                                                             \n",
      "⎣                 (sin(θ₂)⋅cos(θ₄) - sin(θ₄)⋅cos(θ₂))⋅sin(θ₅)                 \n",
      "\n",
      "⎤\n",
      "⎥\n",
      "⎥\n",
      "⎥\n",
      "⎦\n"
     ]
    }
   ],
   "source": [
    "#Printing the 0_Z_5 element of Jacobian\n",
    "pprint(Z5)"
   ]
  },
  {
   "cell_type": "code",
   "execution_count": 18,
   "metadata": {},
   "outputs": [
    {
     "name": "stdout",
     "output_type": "stream",
     "text": [
      "⎡-((sin(θ₂)⋅sin(θ₄)⋅cos(θ₁) + cos(θ₁)⋅cos(θ₂)⋅cos(θ₄))⋅cos(θ₅) - sin(θ₁)⋅sin(θ\n",
      "⎢                                                                             \n",
      "⎢-((sin(θ₁)⋅sin(θ₂)⋅sin(θ₄) + sin(θ₁)⋅cos(θ₂)⋅cos(θ₄))⋅cos(θ₅) + sin(θ₅)⋅cos(θ\n",
      "⎢                                                                             \n",
      "⎣                           (sin(θ₂)⋅sin(θ₄) + cos(θ₂)⋅cos(θ₄))⋅cos(θ₆) - (sin\n",
      "\n",
      "₅))⋅sin(θ₆) + (-sin(θ₂)⋅cos(θ₁)⋅cos(θ₄) + sin(θ₄)⋅cos(θ₁)⋅cos(θ₂))⋅cos(θ₆)⎤\n",
      "                                                                          ⎥\n",
      "₁))⋅sin(θ₆) + (-sin(θ₁)⋅sin(θ₂)⋅cos(θ₄) + sin(θ₁)⋅sin(θ₄)⋅cos(θ₂))⋅cos(θ₆)⎥\n",
      "                                                                          ⎥\n",
      "(θ₂)⋅cos(θ₄) - sin(θ₄)⋅cos(θ₂))⋅sin(θ₆)⋅cos(θ₅)                           ⎦\n"
     ]
    }
   ],
   "source": [
    "#Printing the 0_Z_6 element of Jacobian\n",
    "pprint(Z6)"
   ]
  },
  {
   "cell_type": "code",
   "execution_count": 19,
   "metadata": {},
   "outputs": [
    {
     "name": "stdout",
     "output_type": "stream",
     "text": [
      "⎡-((sin(θ₂)⋅sin(θ₄)⋅cos(θ₁) + cos(θ₁)⋅cos(θ₂)⋅cos(θ₄))⋅cos(θ₅) - sin(θ₁)⋅sin(θ\n",
      "⎢                                                                             \n",
      "⎢-((sin(θ₁)⋅sin(θ₂)⋅sin(θ₄) + sin(θ₁)⋅cos(θ₂)⋅cos(θ₄))⋅cos(θ₅) + sin(θ₅)⋅cos(θ\n",
      "⎢                                                                             \n",
      "⎣                           (sin(θ₂)⋅sin(θ₄) + cos(θ₂)⋅cos(θ₄))⋅cos(θ₆) - (sin\n",
      "\n",
      "₅))⋅sin(θ₆) + (-sin(θ₂)⋅cos(θ₁)⋅cos(θ₄) + sin(θ₄)⋅cos(θ₁)⋅cos(θ₂))⋅cos(θ₆)⎤\n",
      "                                                                          ⎥\n",
      "₁))⋅sin(θ₆) + (-sin(θ₁)⋅sin(θ₂)⋅cos(θ₄) + sin(θ₁)⋅sin(θ₄)⋅cos(θ₂))⋅cos(θ₆)⎥\n",
      "                                                                          ⎥\n",
      "(θ₂)⋅cos(θ₄) - sin(θ₄)⋅cos(θ₂))⋅sin(θ₆)⋅cos(θ₅)                           ⎦\n"
     ]
    }
   ],
   "source": [
    "#Printing the 0_Z_7 element of Jacobian\n",
    "pprint(Z7)"
   ]
  },
  {
   "cell_type": "code",
   "execution_count": 20,
   "metadata": {},
   "outputs": [
    {
     "name": "stdout",
     "output_type": "stream",
     "text": [
      "⎡a₃⋅((-sin(θ₁)⋅sin(θ₂)⋅sin(θ₄) - sin(θ₁)⋅cos(θ₂)⋅cos(θ₄))⋅cos(θ₅) - sin(θ₅)⋅co\n",
      "⎢                                                                             \n",
      "⎢a₃⋅((sin(θ₂)⋅sin(θ₄)⋅cos(θ₁) + cos(θ₁)⋅cos(θ₂)⋅cos(θ₄))⋅cos(θ₅) - sin(θ₁)⋅sin\n",
      "⎢                                                                             \n",
      "⎢                                                                             \n",
      "⎢                                                                             \n",
      "⎢                                                                             \n",
      "⎢                                                                             \n",
      "⎢                                                                             \n",
      "⎢                                                                             \n",
      "⎣                                                                             \n",
      "\n",
      "s(θ₁))⋅cos(θ₆) + a₃⋅(sin(θ₁)⋅sin(θ₂)⋅cos(θ₄) - sin(θ₁)⋅sin(θ₄)⋅cos(θ₂))⋅sin(θ₆\n",
      "                                                                              \n",
      "(θ₅))⋅cos(θ₆) + a₃⋅(-sin(θ₂)⋅cos(θ₁)⋅cos(θ₄) + sin(θ₄)⋅cos(θ₁)⋅cos(θ₂))⋅sin(θ₆\n",
      "                                                                              \n",
      "                                                                              \n",
      "                                                                              \n",
      "                                                                              \n",
      "                                                                              \n",
      "                                                                              \n",
      "                                                                              \n",
      "                                                                              \n",
      "\n",
      ") + a₃⋅sin(θ₁)⋅sin(θ₂)⋅sin(θ₄) + a₃⋅sin(θ₁)⋅cos(θ₂)⋅cos(θ₄) - a₃⋅sin(θ₁)⋅cos(θ\n",
      "                                                                              \n",
      ") - a₃⋅sin(θ₂)⋅sin(θ₄)⋅cos(θ₁) - a₃⋅cos(θ₁)⋅cos(θ₂)⋅cos(θ₄) + a₃⋅cos(θ₁)⋅cos(θ\n",
      "                                                                              \n",
      "                                                                              \n",
      "                                                                              \n",
      "                                                                              \n",
      "                                                                              \n",
      "                                                                              \n",
      "                                                                              \n",
      "                                                                              \n",
      "\n",
      "₂) + d₃⋅sin(θ₁)⋅sin(θ₂) + d₅⋅(sin(θ₁)⋅sin(θ₂)⋅cos(θ₄) - sin(θ₁)⋅sin(θ₄)⋅cos(θ₂\n",
      "                                                                              \n",
      "₂) - d₃⋅sin(θ₂)⋅cos(θ₁) + d₅⋅(-sin(θ₂)⋅cos(θ₁)⋅cos(θ₄) + sin(θ₄)⋅cos(θ₁)⋅cos(θ\n",
      "                                                                              \n",
      "        0                                                                     \n",
      "                                                                              \n",
      "     sin(θ₁)                                                                  \n",
      "                                                                              \n",
      "     -cos(θ₁)                                                                 \n",
      "                                                                              \n",
      "        0                                                                     \n",
      "\n",
      ")) + (-d₇ - 100.0)⋅(-((-sin(θ₁)⋅sin(θ₂)⋅sin(θ₄) - sin(θ₁)⋅cos(θ₂)⋅cos(θ₄))⋅cos\n",
      "                                                                              \n",
      "₂)) + (-d₇ - 100.0)⋅(-((sin(θ₂)⋅sin(θ₄)⋅cos(θ₁) + cos(θ₁)⋅cos(θ₂)⋅cos(θ₄))⋅cos\n",
      "                                                                              \n",
      "                                                                              \n",
      "                                                                              \n",
      "                                                                              \n",
      "                                                                              \n",
      "                                                                              \n",
      "                                                                              \n",
      "                                                                              \n",
      "\n",
      "(θ₅) - sin(θ₅)⋅cos(θ₁))⋅sin(θ₆) + (sin(θ₁)⋅sin(θ₂)⋅cos(θ₄) - sin(θ₁)⋅sin(θ₄)⋅c\n",
      "                                                                              \n",
      "(θ₅) - sin(θ₁)⋅sin(θ₅))⋅sin(θ₆) + (-sin(θ₂)⋅cos(θ₁)⋅cos(θ₄) + sin(θ₄)⋅cos(θ₁)⋅\n",
      "                                                                              \n",
      "                                                                              \n",
      "                                                                              \n",
      "                                                                              \n",
      "                                                                              \n",
      "                                                                              \n",
      "                                                                              \n",
      "                                                                              \n",
      "\n",
      "os(θ₂))⋅cos(θ₆))   a₃⋅(-sin(θ₂)⋅sin(θ₄)⋅cos(θ₁) - cos(θ₁)⋅cos(θ₂)⋅cos(θ₄))⋅sin\n",
      "                                                                              \n",
      "cos(θ₂))⋅cos(θ₆))  a₃⋅(-sin(θ₁)⋅sin(θ₂)⋅sin(θ₄) - sin(θ₁)⋅cos(θ₂)⋅cos(θ₄))⋅sin\n",
      "                                                                              \n",
      "                                                                           a₃⋅\n",
      "                                                                              \n",
      "                                                                              \n",
      "                                                                              \n",
      "                                                                              \n",
      "                                                                              \n",
      "                                                                              \n",
      "\n",
      "(θ₆) + a₃⋅(-sin(θ₂)⋅cos(θ₁)⋅cos(θ₄) + sin(θ₄)⋅cos(θ₁)⋅cos(θ₂))⋅cos(θ₅)⋅cos(θ₆)\n",
      "                                                                              \n",
      "(θ₆) + a₃⋅(-sin(θ₁)⋅sin(θ₂)⋅cos(θ₄) + sin(θ₁)⋅sin(θ₄)⋅cos(θ₂))⋅cos(θ₅)⋅cos(θ₆)\n",
      "                                                                              \n",
      "(sin(θ₂)⋅sin(θ₄) + cos(θ₂)⋅cos(θ₄))⋅cos(θ₅)⋅cos(θ₆) + a₃⋅(-sin(θ₂)⋅cos(θ₄) + s\n",
      "                                                                              \n",
      "                                                                              \n",
      "                                                                              \n",
      "                                                                              \n",
      "                                                                              \n",
      "                                                                              \n",
      "\n",
      " + a₃⋅sin(θ₂)⋅cos(θ₁)⋅cos(θ₄) - a₃⋅sin(θ₂)⋅cos(θ₁) - a₃⋅sin(θ₄)⋅cos(θ₁)⋅cos(θ₂\n",
      "                                                                              \n",
      " + a₃⋅sin(θ₁)⋅sin(θ₂)⋅cos(θ₄) - a₃⋅sin(θ₁)⋅sin(θ₂) - a₃⋅sin(θ₁)⋅sin(θ₄)⋅cos(θ₂\n",
      "                                                                              \n",
      "in(θ₄)⋅cos(θ₂))⋅sin(θ₆) - a₃⋅sin(θ₂)⋅sin(θ₄) - a₃⋅cos(θ₂)⋅cos(θ₄) + a₃⋅cos(θ₂)\n",
      "                                                                              \n",
      "                                                                             -\n",
      "                                                                              \n",
      "                                                                             -\n",
      "                                                                              \n",
      "                                                                              \n",
      "\n",
      ") - d₃⋅cos(θ₁)⋅cos(θ₂) + d₅⋅(-sin(θ₂)⋅sin(θ₄)⋅cos(θ₁) - cos(θ₁)⋅cos(θ₂)⋅cos(θ₄\n",
      "                                                                              \n",
      ") - d₃⋅sin(θ₁)⋅cos(θ₂) + d₅⋅(-sin(θ₁)⋅sin(θ₂)⋅sin(θ₄) - sin(θ₁)⋅cos(θ₂)⋅cos(θ₄\n",
      "                                                                              \n",
      " - d₃⋅sin(θ₂) + d₅⋅(-sin(θ₂)⋅cos(θ₄) + sin(θ₄)⋅cos(θ₂)) + (-d₇ - 100.0)⋅(-(sin\n",
      "                                                                              \n",
      "sin(θ₂)⋅cos(θ₁)                                                               \n",
      "                                                                              \n",
      "sin(θ₁)⋅sin(θ₂)                                                               \n",
      "                                                                              \n",
      "    cos(θ₂)                                                                   \n",
      "\n",
      ")) + (-d₇ - 100.0)⋅((-sin(θ₂)⋅sin(θ₄)⋅cos(θ₁) - cos(θ₁)⋅cos(θ₂)⋅cos(θ₄))⋅cos(θ\n",
      "                                                                              \n",
      ")) + (-d₇ - 100.0)⋅((-sin(θ₁)⋅sin(θ₂)⋅sin(θ₄) - sin(θ₁)⋅cos(θ₂)⋅cos(θ₄))⋅cos(θ\n",
      "                                                                              \n",
      "(θ₂)⋅sin(θ₄) + cos(θ₂)⋅cos(θ₄))⋅sin(θ₆)⋅cos(θ₅) + (-sin(θ₂)⋅cos(θ₄) + sin(θ₄)⋅\n",
      "                                                                              \n",
      "                                                                              \n",
      "                                                                              \n",
      "                                                                              \n",
      "                                                                              \n",
      "                                                                              \n",
      "\n",
      "₆) - (-sin(θ₂)⋅cos(θ₁)⋅cos(θ₄) + sin(θ₄)⋅cos(θ₁)⋅cos(θ₂))⋅sin(θ₆)⋅cos(θ₅))  a₃\n",
      "                                                                              \n",
      "₆) - (-sin(θ₁)⋅sin(θ₂)⋅cos(θ₄) + sin(θ₁)⋅sin(θ₄)⋅cos(θ₂))⋅sin(θ₆)⋅cos(θ₅))  a₃\n",
      "                                                                              \n",
      "cos(θ₂))⋅cos(θ₆))                                                             \n",
      "                                                                              \n",
      "                                                                              \n",
      "                                                                              \n",
      "                                                                              \n",
      "                                                                              \n",
      "                                                                              \n",
      "\n",
      "⋅(sin(θ₂)⋅sin(θ₄)⋅cos(θ₁) + cos(θ₁)⋅cos(θ₂)⋅cos(θ₄))⋅sin(θ₆) + a₃⋅(sin(θ₂)⋅cos\n",
      "                                                                              \n",
      "⋅(sin(θ₁)⋅sin(θ₂)⋅sin(θ₄) + sin(θ₁)⋅cos(θ₂)⋅cos(θ₄))⋅sin(θ₆) + a₃⋅(sin(θ₁)⋅sin\n",
      "                                                                              \n",
      "                                            a₃⋅(-sin(θ₂)⋅sin(θ₄) - cos(θ₂)⋅cos\n",
      "                                                                              \n",
      "                                                                              \n",
      "                                                                              \n",
      "                                                                              \n",
      "                                                                              \n",
      "                                                                              \n",
      "\n",
      "(θ₁)⋅cos(θ₄) - sin(θ₄)⋅cos(θ₁)⋅cos(θ₂))⋅cos(θ₅)⋅cos(θ₆) - a₃⋅sin(θ₂)⋅cos(θ₁)⋅c\n",
      "                                                                              \n",
      "(θ₂)⋅cos(θ₄) - sin(θ₁)⋅sin(θ₄)⋅cos(θ₂))⋅cos(θ₅)⋅cos(θ₆) - a₃⋅sin(θ₁)⋅sin(θ₂)⋅c\n",
      "                                                                              \n",
      "(θ₄))⋅cos(θ₅)⋅cos(θ₆) + a₃⋅(sin(θ₂)⋅cos(θ₄) - sin(θ₄)⋅cos(θ₂))⋅sin(θ₆) + a₃⋅si\n",
      "                                                                              \n",
      "                                                                              \n",
      "                                                                              \n",
      "                                                                              \n",
      "                                                                              \n",
      "                                                                              \n",
      "\n",
      "os(θ₄) + a₃⋅sin(θ₄)⋅cos(θ₁)⋅cos(θ₂) + d₅⋅(sin(θ₂)⋅sin(θ₄)⋅cos(θ₁) + cos(θ₁)⋅co\n",
      "                                                                              \n",
      "os(θ₄) + a₃⋅sin(θ₁)⋅sin(θ₄)⋅cos(θ₂) + d₅⋅(sin(θ₁)⋅sin(θ₂)⋅sin(θ₄) + sin(θ₁)⋅co\n",
      "                                                                              \n",
      "n(θ₂)⋅sin(θ₄) + a₃⋅cos(θ₂)⋅cos(θ₄) + d₅⋅(sin(θ₂)⋅cos(θ₄) - sin(θ₄)⋅cos(θ₂)) + \n",
      "                                                                              \n",
      "                -sin(θ₂)⋅cos(θ₁)⋅cos(θ₄) + sin(θ₄)⋅cos(θ₁)⋅cos(θ₂)            \n",
      "                                                                              \n",
      "                -sin(θ₁)⋅sin(θ₂)⋅cos(θ₄) + sin(θ₁)⋅sin(θ₄)⋅cos(θ₂)            \n",
      "                                                                              \n",
      "                        sin(θ₂)⋅sin(θ₄) + cos(θ₂)⋅cos(θ₄)                     \n",
      "\n",
      "s(θ₂)⋅cos(θ₄)) + (-d₇ - 100.0)⋅((sin(θ₂)⋅sin(θ₄)⋅cos(θ₁) + cos(θ₁)⋅cos(θ₂)⋅cos\n",
      "                                                                              \n",
      "s(θ₂)⋅cos(θ₄)) + (-d₇ - 100.0)⋅((sin(θ₁)⋅sin(θ₂)⋅sin(θ₄) + sin(θ₁)⋅cos(θ₂)⋅cos\n",
      "                                                                              \n",
      "(-d₇ - 100.0)⋅(-(-sin(θ₂)⋅sin(θ₄) - cos(θ₂)⋅cos(θ₄))⋅sin(θ₆)⋅cos(θ₅) + (sin(θ₂\n",
      "                                                                              \n",
      "                                                                              \n",
      "                                                                              \n",
      "                                                                              \n",
      "                                                                              \n",
      "                                                                              \n",
      "\n",
      "(θ₄))⋅cos(θ₆) - (sin(θ₂)⋅cos(θ₁)⋅cos(θ₄) - sin(θ₄)⋅cos(θ₁)⋅cos(θ₂))⋅sin(θ₆)⋅co\n",
      "                                                                              \n",
      "(θ₄))⋅cos(θ₆) - (sin(θ₁)⋅sin(θ₂)⋅cos(θ₄) - sin(θ₁)⋅sin(θ₄)⋅cos(θ₂))⋅sin(θ₆)⋅co\n",
      "                                                                              \n",
      ")⋅cos(θ₄) - sin(θ₄)⋅cos(θ₂))⋅cos(θ₆))                                         \n",
      "                                                                              \n",
      "                                                                              \n",
      "                                                                              \n",
      "                                                                              \n",
      "                                                                              \n",
      "                                                                              \n",
      "\n",
      "s(θ₅))  a₃⋅(-(sin(θ₂)⋅sin(θ₄)⋅cos(θ₁) + cos(θ₁)⋅cos(θ₂)⋅cos(θ₄))⋅sin(θ₅) - sin\n",
      "                                                                              \n",
      "s(θ₅))  a₃⋅(-(sin(θ₁)⋅sin(θ₂)⋅sin(θ₄) + sin(θ₁)⋅cos(θ₂)⋅cos(θ₄))⋅sin(θ₅) + cos\n",
      "                                                                              \n",
      "                                            -a₃⋅(sin(θ₂)⋅cos(θ₄) - sin(θ₄)⋅cos\n",
      "                                                                              \n",
      "                                                                   (sin(θ₂)⋅si\n",
      "                                                                              \n",
      "                                                                   (sin(θ₁)⋅si\n",
      "                                                                              \n",
      "                                                                              \n",
      "\n",
      "(θ₁)⋅cos(θ₅))⋅cos(θ₆) - (-d₇ - 100.0)⋅(-(sin(θ₂)⋅sin(θ₄)⋅cos(θ₁) + cos(θ₁)⋅cos\n",
      "                                                                              \n",
      "(θ₁)⋅cos(θ₅))⋅cos(θ₆) - (-d₇ - 100.0)⋅(-(sin(θ₁)⋅sin(θ₂)⋅sin(θ₄) + sin(θ₁)⋅cos\n",
      "                                                                              \n",
      "(θ₂))⋅sin(θ₅)⋅cos(θ₆) + (-d₇ - 100.0)⋅(sin(θ₂)⋅cos(θ₄) - sin(θ₄)⋅cos(θ₂))⋅sin(\n",
      "                                                                              \n",
      "n(θ₄)⋅cos(θ₁) + cos(θ₁)⋅cos(θ₂)⋅cos(θ₄))⋅sin(θ₅) + sin(θ₁)⋅cos(θ₅)            \n",
      "                                                                              \n",
      "n(θ₂)⋅sin(θ₄) + sin(θ₁)⋅cos(θ₂)⋅cos(θ₄))⋅sin(θ₅) - cos(θ₁)⋅cos(θ₅)            \n",
      "                                                                              \n",
      "      (sin(θ₂)⋅cos(θ₄) - sin(θ₄)⋅cos(θ₂))⋅sin(θ₅)                             \n",
      "\n",
      "(θ₂)⋅cos(θ₄))⋅sin(θ₅) - sin(θ₁)⋅cos(θ₅))⋅sin(θ₆)  -a₃⋅((sin(θ₂)⋅sin(θ₄)⋅cos(θ₁\n",
      "                                                                              \n",
      "(θ₂)⋅cos(θ₄))⋅sin(θ₅) + cos(θ₁)⋅cos(θ₅))⋅sin(θ₆)  -a₃⋅((sin(θ₁)⋅sin(θ₂)⋅sin(θ₄\n",
      "                                                                              \n",
      "θ₅)⋅sin(θ₆)                                                                   \n",
      "                                                                              \n",
      "                                                                              \n",
      "                                                                              \n",
      "                                                                              \n",
      "                                                                              \n",
      "                                                                              \n",
      "\n",
      ") + cos(θ₁)⋅cos(θ₂)⋅cos(θ₄))⋅cos(θ₅) - sin(θ₁)⋅sin(θ₅))⋅sin(θ₆) + a₃⋅(-sin(θ₂)\n",
      "                                                                              \n",
      ") + sin(θ₁)⋅cos(θ₂)⋅cos(θ₄))⋅cos(θ₅) + sin(θ₅)⋅cos(θ₁))⋅sin(θ₆) + a₃⋅(-sin(θ₁)\n",
      "                                                                              \n",
      "                         a₃⋅(sin(θ₂)⋅sin(θ₄) + cos(θ₂)⋅cos(θ₄))⋅cos(θ₆) - a₃⋅(\n",
      "                                                                              \n",
      "                                                            -((sin(θ₂)⋅sin(θ₄)\n",
      "                                                                              \n",
      "                                                            -((sin(θ₁)⋅sin(θ₂)\n",
      "                                                                              \n",
      "                                                                              \n",
      "\n",
      "⋅cos(θ₁)⋅cos(θ₄) + sin(θ₄)⋅cos(θ₁)⋅cos(θ₂))⋅cos(θ₆) + (-d₇ - 100.0)⋅(-((sin(θ₂\n",
      "                                                                              \n",
      "⋅sin(θ₂)⋅cos(θ₄) + sin(θ₁)⋅sin(θ₄)⋅cos(θ₂))⋅cos(θ₆) + (-d₇ - 100.0)⋅(-((sin(θ₁\n",
      "                                                                              \n",
      "sin(θ₂)⋅cos(θ₄) - sin(θ₄)⋅cos(θ₂))⋅sin(θ₆)⋅cos(θ₅) + (-d₇ - 100.0)⋅(-(sin(θ₂)⋅\n",
      "                                                                              \n",
      "⋅cos(θ₁) + cos(θ₁)⋅cos(θ₂)⋅cos(θ₄))⋅cos(θ₅) - sin(θ₁)⋅sin(θ₅))⋅sin(θ₆) + (-sin\n",
      "                                                                              \n",
      "⋅sin(θ₄) + sin(θ₁)⋅cos(θ₂)⋅cos(θ₄))⋅cos(θ₅) + sin(θ₅)⋅cos(θ₁))⋅sin(θ₆) + (-sin\n",
      "                                                                              \n",
      "         (sin(θ₂)⋅sin(θ₄) + cos(θ₂)⋅cos(θ₄))⋅cos(θ₆) - (sin(θ₂)⋅cos(θ₄) - sin(\n",
      "\n",
      ")⋅sin(θ₄)⋅cos(θ₁) + cos(θ₁)⋅cos(θ₂)⋅cos(θ₄))⋅cos(θ₅) - sin(θ₁)⋅sin(θ₅))⋅cos(θ₆\n",
      "                                                                              \n",
      ")⋅sin(θ₂)⋅sin(θ₄) + sin(θ₁)⋅cos(θ₂)⋅cos(θ₄))⋅cos(θ₅) + sin(θ₅)⋅cos(θ₁))⋅cos(θ₆\n",
      "                                                                              \n",
      "sin(θ₄) + cos(θ₂)⋅cos(θ₄))⋅sin(θ₆) - (sin(θ₂)⋅cos(θ₄) - sin(θ₄)⋅cos(θ₂))⋅cos(θ\n",
      "                                                                              \n",
      "(θ₂)⋅cos(θ₁)⋅cos(θ₄) + sin(θ₄)⋅cos(θ₁)⋅cos(θ₂))⋅cos(θ₆)                       \n",
      "                                                                              \n",
      "(θ₁)⋅sin(θ₂)⋅cos(θ₄) + sin(θ₁)⋅sin(θ₄)⋅cos(θ₂))⋅cos(θ₆)                       \n",
      "                                                                              \n",
      "θ₄)⋅cos(θ₂))⋅sin(θ₆)⋅cos(θ₅)                                                  \n",
      "\n",
      ") - (-sin(θ₂)⋅cos(θ₁)⋅cos(θ₄) + sin(θ₄)⋅cos(θ₁)⋅cos(θ₂))⋅sin(θ₆))             \n",
      "                                                                              \n",
      ") - (-sin(θ₁)⋅sin(θ₂)⋅cos(θ₄) + sin(θ₁)⋅sin(θ₄)⋅cos(θ₂))⋅sin(θ₆))             \n",
      "                                                                              \n",
      "₅)⋅cos(θ₆))                                                                   \n",
      "                                                                              \n",
      "                                                                   -((sin(θ₂)⋅\n",
      "                                                                              \n",
      "                                                                   -((sin(θ₁)⋅\n",
      "                                                                              \n",
      "                                                                              \n",
      "\n",
      "                                                                0             \n",
      "                                                                              \n",
      "                                                                0             \n",
      "                                                                              \n",
      "                                                                0             \n",
      "                                                                              \n",
      "sin(θ₄)⋅cos(θ₁) + cos(θ₁)⋅cos(θ₂)⋅cos(θ₄))⋅cos(θ₅) - sin(θ₁)⋅sin(θ₅))⋅sin(θ₆) \n",
      "                                                                              \n",
      "sin(θ₂)⋅sin(θ₄) + sin(θ₁)⋅cos(θ₂)⋅cos(θ₄))⋅cos(θ₅) + sin(θ₅)⋅cos(θ₁))⋅sin(θ₆) \n",
      "                                                                              \n",
      "                (sin(θ₂)⋅sin(θ₄) + cos(θ₂)⋅cos(θ₄))⋅cos(θ₆) - (sin(θ₂)⋅cos(θ₄)\n",
      "\n",
      "                                                              ⎤\n",
      "                                                              ⎥\n",
      "                                                              ⎥\n",
      "                                                              ⎥\n",
      "                                                              ⎥\n",
      "                                                              ⎥\n",
      "+ (-sin(θ₂)⋅cos(θ₁)⋅cos(θ₄) + sin(θ₄)⋅cos(θ₁)⋅cos(θ₂))⋅cos(θ₆)⎥\n",
      "                                                              ⎥\n",
      "+ (-sin(θ₁)⋅sin(θ₂)⋅cos(θ₄) + sin(θ₁)⋅sin(θ₄)⋅cos(θ₂))⋅cos(θ₆)⎥\n",
      "                                                              ⎥\n",
      " - sin(θ₄)⋅cos(θ₂))⋅sin(θ₆)⋅cos(θ₅)                           ⎦\n"
     ]
    }
   ],
   "source": [
    "#Defining the Jacobian Matrix\n",
    "Jacob = Matrix([[dele1,dele2,dele4,dele5,dele6,dele7],[Z1,Z2,Z4,Z5,Z6,Z7]])\n",
    "J=Jacob.evalf()\n",
    "pprint(J)\n"
   ]
  },
  {
   "cell_type": "code",
   "execution_count": 21,
   "metadata": {},
   "outputs": [],
   "source": [
    "#Writing Geometric dimensions of robot in Jacobian and End effector transformation wrt Base\n",
    "J =J.subs({a3:88,d1:333,d3:316,d5:384,d7:107})\n",
    "A07 =A70.subs({a3:88,d1:333,d3:316,d5:384,d7:107})\n",
    "\n",
    "#Defining the initial value of joint angles given in question\n",
    "q = Matrix([[0.0], [0.0], [pi/2], [0.0], [pi], [0.0]])\n",
    "\n",
    "#Defining the list for storing the values of x, y, and z of end effectors\n",
    "y = []\n",
    "z = []\n",
    "x = []\n",
    "\n",
    "i=0 #Defining the iterators"
   ]
  },
  {
   "cell_type": "code",
   "execution_count": 22,
   "metadata": {},
   "outputs": [
    {
     "name": "stdout",
     "output_type": "stream",
     "text": [
      "⎡  0    -492.0         176.0            0           -88.0                   0 \n",
      "⎢                                                                             \n",
      "⎢679.0    0              0            -88.0           0                     0 \n",
      "⎢                                                                             \n",
      "⎢  0    679.0          -591.0           0           207.0                   0 \n",
      "⎢                                                                             \n",
      "⎢  0      0             1.0             0            -1.0                  -1.\n",
      "⎢                                                                             \n",
      "⎢-1.0     0              0            -1.0            0                     0 \n",
      "⎢                                                                             \n",
      "⎣  0     1.0    6.12323399573677e-17    0    6.12323399573677e-17  6.123233995\n",
      "\n",
      "         ⎤\n",
      "         ⎥\n",
      "         ⎥\n",
      "         ⎥\n",
      "         ⎥\n",
      "         ⎥\n",
      "0        ⎥\n",
      "         ⎥\n",
      "         ⎥\n",
      "         ⎥\n",
      "73677e-17⎦\n"
     ]
    }
   ],
   "source": [
    "#Printing the initial Jacobian Matrix\n",
    "J2 = J\n",
    "J2 = J2.subs({theta1:q[0,0],theta2:q[1,0],theta4:q[2,0],theta5:q[3,0],theta6:q[4,0],theta7:q[5,0]}).evalf()\n",
    "pprint(J2)"
   ]
  },
  {
   "cell_type": "code",
   "execution_count": 23,
   "metadata": {},
   "outputs": [],
   "source": [
    "#Define time step for loop\n",
    "T = 5 #Time required to complete one revolution\n",
    "N = 1000 #No. of Iterations\n",
    "dt = T / N #Time Step"
   ]
  },
  {
   "cell_type": "code",
   "execution_count": 24,
   "metadata": {},
   "outputs": [],
   "source": [
    "while (i<=1000):  ## run this for loop for more than 1000 time to make sure that circle is being perfactly drawn\n",
    "    ## divide the entire circle to be drawing in 1000 points\n",
    "    y_dot = 40*pi*cos((2*pi/1000)*i)\n",
    "    z_dot = -40*pi*sin((2*pi/1000)*i)\n",
    "\n",
    "    V = Matrix([0.0,y_dot, z_dot, 0.0, 0.0, 0.0]).evalf()\n",
    "    \n",
    "    ## find the transformation matrix from base to end effector in each iteration\n",
    "    ## take theta3 = 0\n",
    "    A = A07.subs({theta1:q[0,0],theta2:q[1,0],theta4:q[2,0],theta5:q[3,0],theta6:q[4,0],theta7:q[5,0]}).evalf()\n",
    "\n",
    "    # position of ball point in 7th frame\n",
    "    P7 = Matrix([0,0,0,1])\n",
    "    \n",
    "    ## position of ball point in the origin frame\n",
    "    P07 = A*P7\n",
    "    ## add the value of x,y and z in the list at each iteration\n",
    "    ## This will be used for plotting the circle later\n",
    "    y.append(P07[1,0])\n",
    "    z.append(P07[2,0])\n",
    "    x.append(P07[0,0])\n",
    "    ## jacobian to find the jacobian matrix for each iteration\n",
    "    ## take theta3 = 0\n",
    "    J1 = J.subs({theta1:q[0,0],theta2:q[1,0],theta4:q[2,0],theta5:q[3,0],theta6:q[4,0],theta7:q[5,0]}).evalf()\n",
    "    J_inv = J1.inv('LU')\n",
    "    # # find the difference in the position of end effector in each iteration\n",
    "    # ## update the value of q \n",
    "    q = q + (J_inv*V*dt)\n",
    "    i+=1\n",
    "\n"
   ]
  },
  {
   "cell_type": "code",
   "execution_count": 25,
   "metadata": {},
   "outputs": [
    {
     "data": {
      "image/png": "[encoded data removed]",
      "text/plain": [
       "<Figure size 640x480 with 1 Axes>"
      ]
     },
     "metadata": {},
     "output_type": "display_data"
    },
    {
     "name": "stdout",
     "output_type": "stream",
     "text": [
      "215.89818859100342\n"
     ]
    }
   ],
   "source": [
    "# plot the circle after finding x and z value at each iteration\n",
    "plt.plot(y,z)\n",
    "plt.xlabel(\"Y coordinate\")\n",
    "plt.ylabel(\"Z coordinate\")\n",
    "plt.axis(\"equal\")\n",
    "plt.pause(0.05)\n",
    "plt.show()\n",
    "end = time.time()\n",
    "print(end-start) # print time taken to run the code\n"
   ]
  },
  {
   "cell_type": "code",
   "execution_count": 26,
   "metadata": {},
   "outputs": [
    {
     "data": {
      "text/plain": [
       "[<mpl_toolkits.mplot3d.art3d.Line3D at 0x7fdca56985b0>]"
      ]
     },
     "execution_count": 26,
     "metadata": {},
     "output_type": "execute_result"
    },
    {
     "data": {
      "image/png": "[encoded data removed]",
      "text/plain": [
       "<Figure size 640x480 with 1 Axes>"
      ]
     },
     "metadata": {},
     "output_type": "display_data"
    }
   ],
   "source": [
    "from mpl_toolkits.mplot3d import axes3d, Axes3D\n",
    "ax = plt.axes(projection='3d')\n",
    "\n",
    "# Data for a three-dimensional line\n",
    "ax.axes.set_xlim3d(left=500, right=700) \n",
    "# ax.axes.set_ylim3d(bottom=-200, top=200) \n",
    "# ax.axes.set_zlim3d(bottom=0, top=1000) \n",
    "ax.set_xlabel(\"X coordinate\")\n",
    "ax.set_ylabel(\"Y coordinate\")\n",
    "ax.set_zlabel(\"Z coordinate\")\n",
    "\n",
    "\n",
    "ax.plot3D(x, y, z, 'red' ,linewidth=2.5)\n"
   ]
  },
  {
   "cell_type": "code",
   "execution_count": 27,
   "metadata": {},
   "outputs": [
    {
     "data": {
      "text/latex": [
       "$\\displaystyle 679.0$"
      ],
      "text/plain": [
       "679.000000000000"
      ]
     },
     "execution_count": 27,
     "metadata": {},
     "output_type": "execute_result"
    }
   ],
   "source": [
    "max(x)"
   ]
  },
  {
   "cell_type": "code",
   "execution_count": 28,
   "metadata": {},
   "outputs": [
    {
     "data": {
      "text/latex": [
       "$\\displaystyle 678.674640446107$"
      ],
      "text/plain": [
       "678.674640446107"
      ]
     },
     "execution_count": 28,
     "metadata": {},
     "output_type": "execute_result"
    }
   ],
   "source": [
    "min(x)"
   ]
  },
  {
   "cell_type": "code",
   "execution_count": 29,
   "metadata": {},
   "outputs": [
    {
     "data": {
      "text/latex": [
       "$\\displaystyle -99.6777390411707$"
      ],
      "text/plain": [
       "-99.6777390411707"
      ]
     },
     "execution_count": 29,
     "metadata": {},
     "output_type": "execute_result"
    }
   ],
   "source": [
    "min(y)"
   ]
  },
  {
   "cell_type": "code",
   "execution_count": 30,
   "metadata": {},
   "outputs": [
    {
     "data": {
      "text/latex": [
       "$\\displaystyle 100.323704645908$"
      ],
      "text/plain": [
       "100.323704645908"
      ]
     },
     "execution_count": 30,
     "metadata": {},
     "output_type": "execute_result"
    }
   ],
   "source": [
    "max(y)"
   ]
  },
  {
   "cell_type": "code",
   "execution_count": 31,
   "metadata": {},
   "outputs": [
    {
     "data": {
      "text/latex": [
       "$\\displaystyle 825.0$"
      ],
      "text/plain": [
       "825.000000000000"
      ]
     },
     "execution_count": 31,
     "metadata": {},
     "output_type": "execute_result"
    }
   ],
   "source": [
    "max(z)"
   ]
  },
  {
   "cell_type": "code",
   "execution_count": 32,
   "metadata": {},
   "outputs": [
    {
     "data": {
      "text/latex": [
       "$\\displaystyle 624.983976668739$"
      ],
      "text/plain": [
       "624.983976668739"
      ]
     },
     "execution_count": 32,
     "metadata": {},
     "output_type": "execute_result"
    }
   ],
   "source": [
    "min(z)"
   ]
  },
  {
   "cell_type": "code",
   "execution_count": null,
   "metadata": {},
   "outputs": [],
   "source": []
  }
 ],
 "metadata": {
  "kernelspec": {
   "display_name": "Python 3 (ipykernel)",
   "language": "python",
   "name": "python3"
  },
  "language_info": {
   "codemirror_mode": {
    "name": "ipython",
    "version": 3
   },
   "file_extension": ".py",
   "mimetype": "text/x-python",
   "name": "python",
   "nbconvert_exporter": "python",
   "pygments_lexer": "ipython3",
   "version": "3.8.10"
  },
  "vscode": {
   "interpreter": {
    "hash": "31f2aee4e71d21fbe5cf8b01ff0e069b9275f58929596ceb00d14d90e3e16cd6"
   }
  }
 },
 "nbformat": 4,
 "nbformat_minor": 2
}
